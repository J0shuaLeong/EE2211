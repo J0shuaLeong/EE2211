{
 "cells": [
  {
   "cell_type": "code",
   "execution_count": 4,
   "id": "93fe79fb",
   "metadata": {},
   "outputs": [
    {
     "name": "stdout",
     "output_type": "stream",
     "text": [
      "[[-1.]\n",
      " [ 1.]]\n",
      "0.9999999999999998\n",
      "2\n"
     ]
    }
   ],
   "source": [
    "import numpy as np\n",
    "import pandas as pd\n",
    "from numpy.linalg import matrix_rank\n",
    "from numpy.linalg import inv\n",
    "\n",
    "# Even determined system\n",
    "X = np.array([[1, 1], [3, 4]])\n",
    "y = np.array([[0], [1]])\n",
    "w = inv(X) @ y\n",
    "print(w)\n",
    "print(np.linalg.det(X))\n",
    "print(matrix_rank(X))"
   ]
  },
  {
   "cell_type": "code",
   "execution_count": null,
   "id": "2d0a131d",
   "metadata": {},
   "outputs": [],
   "source": [
    "import numpy as np\n",
    "import pandas as pd\n",
    "from numpy.linalg import matrix_rank\n",
    "from numpy.linalg import inv\n",
    "\n",
    "# Over determined system\n",
    "X = np.array([[1, 2], [2, 4], [1, -1]])\n",
    "y = np.array([[0], [0.1], [1]])\n",
    "w = inv(X.T @ X) @ X.T @ y\n",
    "print(w)"
   ]
  },
  {
   "cell_type": "code",
   "execution_count": null,
   "id": "cc66cfd4",
   "metadata": {},
   "outputs": [],
   "source": [
    "import numpy as np\n",
    "import pandas as pd\n",
    "from numpy.linalg import matrix_rank\n",
    "from numpy.linalg import inv\n",
    "\n",
    "# Under determined system\n",
    "X = np.array([[1, 0, 1, 0], [1, -1, 1, -1], [1, 1, 0, 0]])\n",
    "y = np.array([[1],[0], [1]])\n",
    "w = X.T @ inv(X@ X.T) @ y\n",
    "print(w)"
   ]
  },
  {
   "cell_type": "code",
   "execution_count": null,
   "id": "a7af2c31",
   "metadata": {},
   "outputs": [],
   "source": [
    "import numpy as np\n",
    "import pandas as pd\n",
    "from numpy.linalg import matrix_rank\n",
    "from numpy.linalg import inv\n",
    "\n",
    "# Even determined system with transpose\n",
    "X = np.array([[1, 2], [3, 6]])\n",
    "yT = np.array([[0, 1]])\n",
    "print(matrix_rank(X)) #2 x 2 matrix with rank 1 is not invertible thus no solution"
   ]
  },
  {
   "cell_type": "code",
   "execution_count": 11,
   "id": "77c02f34",
   "metadata": {},
   "outputs": [
    {
     "name": "stdout",
     "output_type": "stream",
     "text": [
      "[[ 0.06666667]\n",
      " [ 0.13333333]\n",
      " [-0.33333333]]\n",
      "[[ 0.06666667]\n",
      " [ 0.13333333]\n",
      " [-0.33333333]]\n"
     ]
    }
   ],
   "source": [
    "import numpy as np\n",
    "import pandas as pd\n",
    "from numpy.linalg import matrix_rank\n",
    "from numpy.linalg import inv\n",
    "\n",
    "# Under determined system with transpose\n",
    "X = np.array([[1, 2], [2, 4], [1, -1]])\n",
    "y = np.array([[0], [1]])\n",
    "yT = y.T\n",
    "wT = yT @ inv(X.T @ X) @ X.T\n",
    "print(wT.T)\n",
    "# Alternative method for Under determined system with transpose\n",
    "X = np.array([[1, 2], [2, 4], [1, -1]])\n",
    "y = np.array([[0], [1]])\n",
    "w = X @ inv(X.T @ X) @ y\n",
    "print(w)"
   ]
  },
  {
   "cell_type": "code",
   "execution_count": null,
   "id": "b259e71a",
   "metadata": {},
   "outputs": [],
   "source": [
    "import numpy as np\n",
    "import pandas as pd\n",
    "from numpy.linalg import matrix_rank\n",
    "from numpy.linalg import inv\n",
    "\n",
    "# Linear regression of over determined system\n",
    "X = np.array([[1, -10], [1, -8], [1, -3], [1, -1], [1, 2], [1, 8]]) #with bias\n",
    "Y = np.array([[5], [5], [4], [3], [2], [2]])\n",
    "w = inv(X.T @ X) @ X.T @ Y\n",
    "print(w)\n",
    "X = np.array([[-10], [-8], [-3], [-1], [2], [8]]) #without bias\n",
    "w = inv(X.T @ X) @ X.T @ Y\n",
    "print(w)"
   ]
  },
  {
   "cell_type": "code",
   "execution_count": null,
   "id": "f7b9c6c8",
   "metadata": {},
   "outputs": [],
   "source": [
    "import numpy as np\n",
    "import pandas as pd\n",
    "from numpy.linalg import matrix_rank\n",
    "from numpy.linalg import inv\n",
    "\n",
    "# Linear regression of under determined system\n",
    "X = np.array([[ 1, 0, 1], [2, -1, 1], [1, 1, 5]]) #without bias\n",
    "y = np.array([[1], [2], [3]])\n",
    "w = inv(X) @ y\n",
    "print([[-1, 2, 8]] @ w)\n",
    "print([[1, 5, -1]] @ w)\n",
    "X = np.array([[1, 1, 0, 1], [1, 2, -1, 1], [1, 1, 1, 5]]) #with bias\n",
    "w = X.T @ inv(X@ X.T) @ y\n",
    "print([[1, -1, 2, 8]] @ w)\n",
    "print([[1, 1, 5, -1]] @ w)"
   ]
  },
  {
   "cell_type": "code",
   "execution_count": null,
   "id": "4bba615e",
   "metadata": {},
   "outputs": [],
   "source": [
    "import pandas as pd\n",
    "import numpy as np\n",
    "from numpy.linalg import inv\n",
    "\n",
    "# Linear regression with multiple outputs and over determined system\n",
    "X = np.array([[1, 3, -1, 0], [1, 5, 1, 2], [1, 9, -1, 3], [1, -6, 7, 2], [1, 3, -2, 0]])\n",
    "y = np.array([[1, -1], [-1, 0], [1, 2], [0, 3], [1, -2]])\n",
    "w = inv(X.T @ X) @ X.T @ y\n",
    "print(w)\n",
    "print([[1, 8, 0, 2]] @ w)"
   ]
  },
  {
   "cell_type": "code",
   "execution_count": 16,
   "id": "30e8a57d",
   "metadata": {},
   "outputs": [
    {
     "name": "stdout",
     "output_type": "stream",
     "text": [
      "2\n"
     ]
    }
   ],
   "source": [
    "import pandas as pd\n",
    "import numpy as np\n",
    "from numpy.linalg import inv\n",
    "from numpy.linalg import matrix_rank\n",
    "from sklearn.metrics import mean_squared_error\n",
    "\n",
    "X = np.array([[1, 4, 2], [-3, 10, 5]])\n",
    "print(matrix_rank(X))\n",
    "X = np.array([[1, 50, 10], [1, 40, 7], [1, 65, 12], [1, 70, 5], [1, 75, 4]])\n",
    "y = np.array([[9, 3], [6, 7], [5, 6], [3, 1], [2, 9]])\n",
    "w = inv(X.T @ X) @ X.T @ y"
   ]
  },
  {
   "cell_type": "code",
   "execution_count": 10,
   "id": "19deafca",
   "metadata": {},
   "outputs": [
    {
     "name": "stdout",
     "output_type": "stream",
     "text": [
      "[[2.46609771]]\n"
     ]
    }
   ],
   "source": [
    "import numpy as np\n",
    "import pandas as pd\n",
    "from numpy.linalg import inv\n",
    "from sklearn.preprocessing import PolynomialFeatures\n",
    "\n",
    "# Polynomial regression without ridge of overdetermined system (primal form)\n",
    "X = np.array([[-10], [-8], [-3], [-1], [2], [8]])\n",
    "y = np.array([[5], [5], [4], [3], [2], [2]])\n",
    "order = 3\n",
    "poly = PolynomialFeatures(order)\n",
    "P = poly.fit_transform(X)\n",
    "w_dual = inv(P.T @ P) @ P.T @ y\n",
    "Xnew = np.array([[9]])\n",
    "Pnew = poly.fit_transform(Xnew)\n",
    "Ynew= Pnew @ w_dual\n",
    "print(Ynew)"
   ]
  },
  {
   "cell_type": "code",
   "execution_count": 13,
   "id": "a9aaaa5f",
   "metadata": {},
   "outputs": [
    {
     "name": "stdout",
     "output_type": "stream",
     "text": [
      "[[ 0. ]\n",
      " [ 0. ]\n",
      " [-0.1]\n",
      " [ 0. ]\n",
      " [ 0. ]\n",
      " [-0.1]\n",
      " [ 0. ]\n",
      " [ 0.1]\n",
      " [-0.1]\n",
      " [ 0. ]\n",
      " [ 0. ]\n",
      " [-0.1]\n",
      " [ 0. ]\n",
      " [ 0.1]\n",
      " [-0.1]\n",
      " [ 0. ]\n",
      " [-0.1]\n",
      " [ 0.1]\n",
      " [-0.1]\n",
      " [ 0. ]]\n"
     ]
    }
   ],
   "source": [
    "import numpy as np\n",
    "import pandas as pd\n",
    "from numpy.linalg import inv\n",
    "from sklearn.preprocessing import PolynomialFeatures\n",
    "\n",
    "# Polynomial regression without ridge of underdetermined system (primal form)\n",
    "X = np.array([[1, 0, 1], [1, -1, 1]])\n",
    "y = np.array([[0], [1]])\n",
    "order = 3\n",
    "poly = PolynomialFeatures(order)\n",
    "P = poly.fit_transform(X)\n",
    "w_dual = P.T @ inv(P @ P.T) @ y\n",
    "print(w_dual)"
   ]
  },
  {
   "cell_type": "code",
   "execution_count": 7,
   "id": "3c3b434c",
   "metadata": {},
   "outputs": [
    {
     "name": "stdout",
     "output_type": "stream",
     "text": [
      "[[-0.81941134]\n",
      " [-0.81965119]\n",
      " [ 0.45979711]\n",
      " [ 0.45979711]]\n"
     ]
    }
   ],
   "source": [
    "import numpy as np\n",
    "import pandas as pd\n",
    "from numpy.linalg import inv\n",
    "from sklearn.preprocessing import PolynomialFeatures\n",
    "\n",
    "# Polynomial regression with ridge (primal and dual)\n",
    "X = np.array([[0, 0], [1, 1], [1, 0], [0, 1]])\n",
    "y = np.array([[-1], [-1], [1], [1]])\n",
    "order = 2\n",
    "poly = PolynomialFeatures(order)\n",
    "P = poly.fit_transform(X)\n",
    "if(P.shape[0] > P.shape[1]): # Overdetermined\n",
    "    reg_L = 0.0001 * np.identity(P.shape[1]) # Regularization term\n",
    "    w_dual = inv(P.T @ P + reg_L) @ P.T @ y # Primal form for overdetermined system\n",
    "else: # Underdetermined\n",
    "    reg_L = 0.0001 * np.identity(P.shape[0]) # Regularization term\n",
    "    w_dual = P.T @ inv(P @ P.T + reg_L) @ y # Dual form for underdetermined system\n",
    "Xnew = np.array([[0.1, 0.1], [0.9, 0.9], [0.1, 0.9], [0.9, 0.1]])\n",
    "Pnew = poly.fit_transform(Xnew)\n",
    "Ynew = Pnew @ w_dual\n",
    "print(Ynew)"
   ]
  },
  {
   "cell_type": "code",
   "execution_count": 15,
   "id": "d864f69c",
   "metadata": {},
   "outputs": [
    {
     "name": "stdout",
     "output_type": "stream",
     "text": [
      "[[ 0.44444444]\n",
      " [-0.11111111]]\n"
     ]
    }
   ],
   "source": [
    "import numpy as np\n",
    "import pandas as pd\n",
    "from numpy.linalg import inv\n",
    "\n",
    "# Binary classification (+1 for class 1, -1 for class 2) with linear regression\n",
    "X = np.array([[1, -1], [1, 0], [1, 0.5], [1, 0.3], [1, 0.8]])\n",
    "y = np.array([[1], [1], [-1], [1], [-1]])\n",
    "w = inv(X.T @ X) @ X.T @ y\n",
    "print([[1, -0.1], [1, 0.4]] @ w)"
   ]
  },
  {
   "cell_type": "code",
   "execution_count": 16,
   "id": "933b9ff8",
   "metadata": {},
   "outputs": [
    {
     "name": "stdout",
     "output_type": "stream",
     "text": [
      "[[0.54297694 0.27777778 0.17924528]\n",
      " [0.21802935 0.55555556 0.22641509]]\n"
     ]
    }
   ],
   "source": [
    "import numpy as np\n",
    "import pandas as pd\n",
    "from numpy.linalg import inv\n",
    "\n",
    "# Multi-category classification (One hot encoding) with linear regression\n",
    "X = np.array([[1, -1], [1, 0], [1, 0.5], [1, 0.3], [1, 0.8]])\n",
    "y = np.array([[1, 0, 0], [1, 0, 0], [0 , 1, 0], [0, 0, 1], [0, 1, 0]])\n",
    "w = inv(X.T @ X) @ X.T @ y\n",
    "print([[1, -0.1], [1, 0.4]] @ w)"
   ]
  },
  {
   "cell_type": "code",
   "execution_count": 32,
   "id": "637c7eb3",
   "metadata": {},
   "outputs": [
    {
     "name": "stdout",
     "output_type": "stream",
     "text": [
      "0.6509901032456192\n",
      "0.37221827010441094\n",
      "-0.930813148104117\n"
     ]
    }
   ],
   "source": [
    "import numpy as np\n",
    "\n",
    "# Correlation coefficient\n",
    "x1 = np.array([3.3459, 1.0893, 3.2103, 1.7440, 1.6762])\n",
    "x2 = np.array([2.7435, 2.9113, 1.4706, 1.2895, 2.1366])\n",
    "x3 = np.array([-1.7253, -0.7804, -0.9944, 0.5307, -1.0502])\n",
    "y = np.array([2.9972, 1.1399, 2.2280, 0.3387, 2.5042])\n",
    "r = np.corrcoef(x1, y)\n",
    "print(np.corrcoef(x1, y)[0][1])\n",
    "print(np.corrcoef(x2, y)[0][1])\n",
    "print(np.corrcoef(x3, y)[0][1])"
   ]
  },
  {
   "cell_type": "code",
   "execution_count": 6,
   "id": "0bd050f0",
   "metadata": {},
   "outputs": [
    {
     "name": "stdout",
     "output_type": "stream",
     "text": [
      "[-1.03125, -1.5967411994934082, -4.846926554971105, -280.8003334098373, -3108569059.6045403]\n",
      "[-1.1663255989551544, -10.379409726162732, -2675.0517912391933, -1745774299031.264, -2.9027029896735814e+47]\n"
     ]
    }
   ],
   "source": [
    "import numpy as np\n",
    "import pandas as pd\n",
    "import math\n",
    "\n",
    "# Gradient descent algorithm\n",
    "a_out = []\n",
    "f1_out = []\n",
    "a = 1.5\n",
    "for i in range(0, 5):\n",
    "    gradient = 5 * (a ** 4)\n",
    "    a = a - gradient * 0.1 \n",
    "    a_out.append(a)\n",
    "    f1_out.append(a ** 5)\n",
    "print(a_out)\n",
    "print(f1_out)"
   ]
  },
  {
   "cell_type": "code",
   "execution_count": 38,
   "id": "93f9ad30",
   "metadata": {},
   "outputs": [
    {
     "name": "stdout",
     "output_type": "stream",
     "text": [
      "20.6381\n",
      "5.56475\n"
     ]
    }
   ],
   "source": [
    "import numpy as np\n",
    "\n",
    "# MSE of Regression tree at root and depth 1\n",
    "x = np.array([0.2, 0.7, 1.8, 2.2, 3.7, 4.1, 4.5, 5.1, 6.3, 7.4])\n",
    "y = np.array([2.1, 1.5, 5.8, 6.1, 9.1, 9.5, 9.8, 12.7, 13.8, 15.9])\n",
    "mean_y = np.mean(y)\n",
    "\n",
    "# Calculate squared differences and average to get MSE at the root\n",
    "mse_root = np.mean((y - mean_y)**2)\n",
    "print(mse_root)\n",
    "# print(f'MSE at the root: {mse_root:.3f}')\n",
    "\n",
    "# Decision threshold\n",
    "threshold = 3\n",
    "\n",
    "# Separate data into left and right branches\n",
    "y_left = y[x < threshold]\n",
    "y_right = y[x >= threshold]\n",
    "\n",
    "# Calculate mean of y for left and right branches\n",
    "mean_y_left = np.mean(y_left)\n",
    "mean_y_right = np.mean(y_right)\n",
    "\n",
    "# Calculate squared differences and average for left and right branches\n",
    "mse_left = np.mean((y_left - mean_y_left)**2)\n",
    "mse_right = np.mean((y_right - mean_y_right)**2)\n",
    "\n",
    "# Calculate overall MSE at depth 1\n",
    "overall_mse_depth_1 = (len(y_left) * mse_left + len(y_right) * mse_right) / len(y)\n",
    "\n",
    "print(overall_mse_depth_1)\n",
    "#print(f'Overall MSE at depth 1: {overall_mse_depth_1:.3f}')"
   ]
  }
 ],
 "metadata": {
  "kernelspec": {
   "display_name": "Python 3 (ipykernel)",
   "language": "python",
   "name": "python3"
  },
  "language_info": {
   "codemirror_mode": {
    "name": "ipython",
    "version": 3
   },
   "file_extension": ".py",
   "mimetype": "text/x-python",
   "name": "python",
   "nbconvert_exporter": "python",
   "pygments_lexer": "ipython3",
   "version": "3.11.5"
  }
 },
 "nbformat": 4,
 "nbformat_minor": 5
}
