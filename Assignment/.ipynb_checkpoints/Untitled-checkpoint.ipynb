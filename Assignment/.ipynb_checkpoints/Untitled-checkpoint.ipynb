{
 "cells": [
  {
   "cell_type": "code",
   "execution_count": 32,
   "id": "459584f1",
   "metadata": {},
   "outputs": [
    {
     "name": "stdout",
     "output_type": "stream",
     "text": [
      "option 1: \n",
      "[[ 0.02061495 -0.00244584]\n",
      " [-0.00244584  0.0059399 ]]\n",
      "w: \n",
      "[ 0.74598183 -0.47833683]\n"
     ]
    }
   ],
   "source": [
    "import numpy as np\n",
    "\n",
    "\n",
    "# Please replace \"MatricNumber\" with your actual matric number here and in the filename\n",
    "def A1_A0254586R(X, y):\n",
    "    \"\"\"\n",
    "    Input type\n",
    "    :X type: numpy.ndarray\n",
    "    :y type: numpy.ndarray\n",
    "\n",
    "    Return type\n",
    "    :InvXTX type: numpy.ndarray\n",
    "    :w type: numpy.ndarray\n",
    "   \n",
    "    \"\"\"\n",
    "\n",
    "    # your code goes here\n",
    "    pass\n",
    "    XT = np.transpose(X)\n",
    "    XTX = np.dot(XT, X)\n",
    "    InvXTX = np.linalg.inv(XTX)\n",
    "    w = np.dot(np.dot(InvXTX, XT), y)\n",
    "    \n",
    "    # return in this order\n",
    "    return InvXTX, w\n",
    "    \n",
    "def main():\n",
    "    x = np.array([[1, 1], [4, 2], [5, 6], [3, -6], [0, -10]])\n",
    "    y = np.array([-3, 2, 1 ,6, 4])\n",
    "    \n",
    "    ans, w = A1_A0254586R(x, y)\n",
    "    \n",
    "if __name__ == \"__main__\":\n",
    "    main()\n",
    "    "
   ]
  },
  {
   "cell_type": "code",
   "execution_count": null,
   "id": "b64c964c",
   "metadata": {},
   "outputs": [],
   "source": []
  },
  {
   "cell_type": "code",
   "execution_count": null,
   "id": "36e86793",
   "metadata": {},
   "outputs": [],
   "source": []
  },
  {
   "cell_type": "code",
   "execution_count": null,
   "id": "24cbf13b",
   "metadata": {},
   "outputs": [],
   "source": []
  },
  {
   "cell_type": "code",
   "execution_count": null,
   "id": "f277ba96",
   "metadata": {},
   "outputs": [],
   "source": []
  }
 ],
 "metadata": {
  "kernelspec": {
   "display_name": "Python 3 (ipykernel)",
   "language": "python",
   "name": "python3"
  },
  "language_info": {
   "codemirror_mode": {
    "name": "ipython",
    "version": 3
   },
   "file_extension": ".py",
   "mimetype": "text/x-python",
   "name": "python",
   "nbconvert_exporter": "python",
   "pygments_lexer": "ipython3",
   "version": "3.11.5"
  }
 },
 "nbformat": 4,
 "nbformat_minor": 5
}
